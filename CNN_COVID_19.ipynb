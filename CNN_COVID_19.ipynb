{
  "nbformat": 4,
  "nbformat_minor": 0,
  "metadata": {
    "colab": {
      "provenance": []
    },
    "kernelspec": {
      "name": "python3",
      "display_name": "Python 3"
    },
    "language_info": {
      "name": "python"
    }
  },
  "cells": [
    {
      "cell_type": "markdown",
      "source": [
        "# Importing Drive "
      ],
      "metadata": {
        "id": "X9MYJOqRVeBR"
      }
    },
    {
      "cell_type": "code",
      "execution_count": null,
      "metadata": {
        "colab": {
          "base_uri": "https://localhost:8080/"
        },
        "id": "INKe1BPBOS2K",
        "outputId": "2e969c48-9650-4df6-a2e6-24a7078c9cab"
      },
      "outputs": [
        {
          "output_type": "stream",
          "name": "stdout",
          "text": [
            "Mounted at /content/drive\n"
          ]
        }
      ],
      "source": [
        "from google.colab import drive\n",
        "drive.mount('/content/drive')"
      ]
    },
    {
      "cell_type": "code",
      "source": [
        "spath = \"/content/drive/MyDrive/COVID-19_Radiography_Dataset\""
      ],
      "metadata": {
        "id": "R-1dtdR-OVmc"
      },
      "execution_count": null,
      "outputs": []
    },
    {
      "cell_type": "markdown",
      "source": [
        "# Importing Libraries"
      ],
      "metadata": {
        "id": "IcFZB2a-Vb_g"
      }
    },
    {
      "cell_type": "code",
      "source": [
        "import numpy as np\n",
        "import pandas as pd\n",
        "import os\n",
        "\n",
        "import tensorflow as tf\n",
        "from tensorflow.keras.preprocessing.image import ImageDataGenerator\n",
        "\n",
        "from tensorflow.keras.layers import Dense, GlobalAveragePooling2D, Dropout\n",
        "from tensorflow.keras.models import Sequential\n",
        "from tensorflow.keras.optimizers import Adam\n",
        "\n",
        "import seaborn as sns\n",
        "\n",
        "from sklearn.metrics import classification_report, confusion_matrix\n",
        "import glob\n",
        "import matplotlib.pyplot as plt\n",
        "import cv2"
      ],
      "metadata": {
        "id": "p0AJuhkEOW6c"
      },
      "execution_count": null,
      "outputs": []
    },
    {
      "cell_type": "markdown",
      "source": [
        "# Data and Preprocessing"
      ],
      "metadata": {
        "id": "d-YKxrvJVYxZ"
      }
    },
    {
      "cell_type": "code",
      "source": [
        "train = \"/content/drive/MyDrive/COVID-19_Radiography_Dataset/Train\" \n",
        "val =\"/content/drive/MyDrive/COVID-19_Radiography_Dataset/Val\"\n",
        "test = \"/content/drive/MyDrive/COVID-19_Radiography_Dataset/Test\"\n",
        "\n",
        "gen_train = ImageDataGenerator(rescale = 1./255., zoom_range = 0.2,)\n",
        "gen_val = ImageDataGenerator(rescale = 1./255.)\n",
        "gen_test = ImageDataGenerator(rescale = 1./255.)\n",
        "\n",
        "train_gen = gen_train.flow_from_directory(train, batch_size = 64, class_mode = 'categorical', target_size = (220, 220))\n",
        "validation_gen = gen_val.flow_from_directory(val, batch_size = 64, class_mode = 'categorical', target_size=(220, 220))\n",
        "test_gen = gen_test.flow_from_directory(test, shuffle = False, batch_size=64, class_mode = 'categorical', target_size=(220, 220))"
      ],
      "metadata": {
        "colab": {
          "base_uri": "https://localhost:8080/"
        },
        "id": "F2z7T9lyOYU6",
        "outputId": "f469f39c-82ec-4d2e-a8a7-4ce19c8470de"
      },
      "execution_count": null,
      "outputs": [
        {
          "output_type": "stream",
          "name": "stdout",
          "text": [
            "Found 5786 images belonging to 2 classes.\n",
            "Found 722 images belonging to 2 classes.\n",
            "Found 722 images belonging to 2 classes.\n"
          ]
        }
      ]
    },
    {
      "cell_type": "markdown",
      "source": [
        "# Model Training"
      ],
      "metadata": {
        "id": "tWZvyzTeVV-X"
      }
    },
    {
      "cell_type": "markdown",
      "source": [
        "**Model Flow** \n"
      ],
      "metadata": {
        "id": "FX8Ipj_NQhSn"
      }
    },
    {
      "cell_type": "code",
      "source": [
        "model = tf.keras.Sequential([\n",
        "    tf.keras.layers.Conv2D(filters=32, kernel_size=3, activation='relu', input_shape=(220, 220, 3)),\n",
        "    tf.keras.layers.MaxPooling2D(pool_size=(2, 2)),\n",
        "    tf.keras.layers.Conv2D(filters=64, kernel_size=3, activation='relu'),\n",
        "    tf.keras.layers.MaxPooling2D(pool_size=(2, 2)),\n",
        "    tf.keras.layers.Conv2D(filters=128, kernel_size=3, activation='relu'),\n",
        "    tf.keras.layers.MaxPooling2D(pool_size=(2, 2)),\n",
        "    tf.keras.layers.Conv2D(filters=256, kernel_size=3, activation='relu'),\n",
        "    tf.keras.layers.MaxPooling2D(pool_size=(2, 2)),\n",
        "    tf.keras.layers.Flatten(),\n",
        "    tf.keras.layers.Dense(units=512, activation='relu'),\n",
        "    tf.keras.layers.Dropout(rate=0.2),\n",
        "    tf.keras.layers.Dense(units=256, activation='relu'),\n",
        "    tf.keras.layers.Dropout(rate=0.1),\n",
        "    tf.keras.layers.Dense(units=2, activation='softmax')\n",
        "])"
      ],
      "metadata": {
        "id": "5vh1G5VhOa25"
      },
      "execution_count": null,
      "outputs": []
    },
    {
      "cell_type": "code",
      "source": [
        "model.compile(optimizer=\"adam\", loss='categorical_crossentropy', metrics=[\"accuracy\"])\n",
        "\n",
        "# Early Stopping to avoid overfitting of problem (Avoiding Overfitting strategy-2) \n",
        "callback = tf.keras.callbacks.EarlyStopping(monitor='accuracy', patience=2,restore_best_weights=True)\n",
        "\n",
        "# Here we have taken less steps per epoch to create randomness for model as well as to reduce epoch training time as there are many images in each batch \n",
        "history = model.fit(train_gen, validation_data = validation_gen, steps_per_epoch = 40, epochs = 11, callbacks = callback)"
      ],
      "metadata": {
        "colab": {
          "base_uri": "https://localhost:8080/"
        },
        "id": "V_IkCqzhOczO",
        "outputId": "ec083552-c9c5-4af9-a6fa-523946138697"
      },
      "execution_count": null,
      "outputs": [
        {
          "output_type": "stream",
          "name": "stdout",
          "text": [
            "Epoch 1/11\n",
            "40/40 [==============================] - 594s 15s/step - loss: 0.6833 - accuracy: 0.6023 - val_loss: 0.4010 - val_accuracy: 0.8269\n",
            "Epoch 2/11\n",
            "40/40 [==============================] - 310s 8s/step - loss: 0.5518 - accuracy: 0.7203 - val_loss: 0.3236 - val_accuracy: 0.8823\n",
            "Epoch 3/11\n",
            "40/40 [==============================] - 302s 7s/step - loss: 0.4443 - accuracy: 0.8031 - val_loss: 0.3166 - val_accuracy: 0.8504\n",
            "Epoch 4/11\n",
            "40/40 [==============================] - 286s 7s/step - loss: 0.4466 - accuracy: 0.7910 - val_loss: 0.3146 - val_accuracy: 0.8643\n",
            "Epoch 5/11\n",
            "40/40 [==============================] - 289s 7s/step - loss: 0.3737 - accuracy: 0.8315 - val_loss: 0.2747 - val_accuracy: 0.8684\n",
            "Epoch 6/11\n",
            "40/40 [==============================] - 283s 7s/step - loss: 0.3703 - accuracy: 0.8331 - val_loss: 0.2604 - val_accuracy: 0.8837\n",
            "Epoch 7/11\n",
            "40/40 [==============================] - 305s 8s/step - loss: 0.3088 - accuracy: 0.8684 - val_loss: 0.2355 - val_accuracy: 0.8892\n",
            "Epoch 8/11\n",
            "40/40 [==============================] - 286s 7s/step - loss: 0.3044 - accuracy: 0.8687 - val_loss: 0.2150 - val_accuracy: 0.9211\n",
            "Epoch 9/11\n",
            "40/40 [==============================] - 287s 7s/step - loss: 0.2866 - accuracy: 0.8801 - val_loss: 0.2660 - val_accuracy: 0.8781\n",
            "Epoch 10/11\n",
            "40/40 [==============================] - 283s 7s/step - loss: 0.3019 - accuracy: 0.8687 - val_loss: 0.0753 - val_accuracy: 0.9792\n",
            "Epoch 11/11\n",
            "40/40 [==============================] - 280s 7s/step - loss: 0.2672 - accuracy: 0.8826 - val_loss: 0.1395 - val_accuracy: 0.9474\n"
          ]
        }
      ]
    },
    {
      "cell_type": "code",
      "source": [
        "history1 = model.fit(train_gen, validation_data = validation_gen, steps_per_epoch = 40, epochs = 5, callbacks = callback)"
      ],
      "metadata": {
        "colab": {
          "base_uri": "https://localhost:8080/"
        },
        "id": "oQk3tvAiofRY",
        "outputId": "eeee6cf6-e618-4a7b-fa8a-a85720f09da7"
      },
      "execution_count": null,
      "outputs": [
        {
          "output_type": "stream",
          "name": "stdout",
          "text": [
            "Epoch 1/5\n",
            "40/40 [==============================] - 286s 7s/step - loss: 0.2641 - accuracy: 0.8875 - val_loss: 0.1512 - val_accuracy: 0.9432\n",
            "Epoch 2/5\n",
            "40/40 [==============================] - 289s 7s/step - loss: 0.2503 - accuracy: 0.8910 - val_loss: 0.1126 - val_accuracy: 0.9681\n",
            "Epoch 3/5\n",
            "40/40 [==============================] - 283s 7s/step - loss: 0.2452 - accuracy: 0.9078 - val_loss: 0.1549 - val_accuracy: 0.9349\n",
            "Epoch 4/5\n",
            "40/40 [==============================] - 282s 7s/step - loss: 0.2305 - accuracy: 0.9044 - val_loss: 0.0995 - val_accuracy: 0.9765\n",
            "Epoch 5/5\n",
            "40/40 [==============================] - 303s 8s/step - loss: 0.2141 - accuracy: 0.9105 - val_loss: 0.1526 - val_accuracy: 0.9571\n"
          ]
        }
      ]
    },
    {
      "cell_type": "markdown",
      "source": [
        "# Saving the model parameters"
      ],
      "metadata": {
        "id": "tMW2WEqdVGX0"
      }
    },
    {
      "cell_type": "code",
      "source": [
        "model.save(\"CNN.h5\")"
      ],
      "metadata": {
        "id": "ByD_roPDOieY"
      },
      "execution_count": null,
      "outputs": []
    },
    {
      "cell_type": "code",
      "source": [
        "history=np.load(\"CNN-history.npy\",allow_pickle=True).item()\n",
        "history1=np.load(\"CNN-history1.npy\",allow_pickle=True).item()\n"
      ],
      "metadata": {
        "id": "J5iAlJHu9Je_"
      },
      "execution_count": null,
      "outputs": []
    },
    {
      "cell_type": "code",
      "source": [
        "np.save(\"CNN-history.npy\",history2)"
      ],
      "metadata": {
        "id": "cIltHqqt8hwj"
      },
      "execution_count": null,
      "outputs": []
    }
  ]
}