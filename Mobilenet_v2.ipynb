{
  "nbformat": 4,
  "nbformat_minor": 0,
  "metadata": {
    "colab": {
      "provenance": []
    },
    "kernelspec": {
      "name": "python3",
      "display_name": "Python 3"
    },
    "language_info": {
      "name": "python"
    },
    "gpuClass": "standard"
  },
  "cells": [
    {
      "cell_type": "code",
      "execution_count": null,
      "metadata": {
        "colab": {
          "base_uri": "https://localhost:8080/"
        },
        "id": "gznllPrTcaKm",
        "outputId": "51b7676c-1efd-4fea-dc42-13606ba8bf5f"
      },
      "outputs": [
        {
          "output_type": "stream",
          "name": "stdout",
          "text": [
            "Drive already mounted at /content/drive; to attempt to forcibly remount, call drive.mount(\"/content/drive\", force_remount=True).\n"
          ]
        }
      ],
      "source": [
        "from google.colab import drive\n",
        "drive.mount('/content/drive')"
      ]
    },
    {
      "cell_type": "code",
      "source": [
        "path = \"/content/drive/MyDrive/COVID-19_Radiography_Dataset\""
      ],
      "metadata": {
        "id": "3hIOe2kneuGF"
      },
      "execution_count": null,
      "outputs": []
    },
    {
      "cell_type": "code",
      "source": [
        "import numpy as np\n",
        "import pandas as pd\n",
        "import os\n",
        "\n",
        "import tensorflow as tf\n",
        "from tensorflow.keras.preprocessing.image import ImageDataGenerator\n",
        "\n",
        "from tensorflow.keras.layers import Dense, GlobalAveragePooling2D, Dropout\n",
        "from tensorflow.keras.models import Sequential\n",
        "from tensorflow.keras.optimizers import Adam\n",
        "\n",
        "import seaborn as sns\n",
        "\n",
        "from sklearn.metrics import classification_report, confusion_matrix\n",
        "import glob\n",
        "import matplotlib.pyplot as plt\n",
        "import cv2"
      ],
      "metadata": {
        "id": "jMnwp7Bifiti"
      },
      "execution_count": null,
      "outputs": []
    },
    {
      "cell_type": "code",
      "source": [
        "train = \"/content/drive/MyDrive/COVID-19_Radiography_Dataset/Train\" \n",
        "val =\"/content/drive/MyDrive/COVID-19_Radiography_Dataset/Val\"\n",
        "test = \"/content/drive/MyDrive/COVID-19_Radiography_Dataset/Test\"\n",
        "\n",
        "gen_train = ImageDataGenerator(rescale = 1./255., zoom_range = 0.2,)\n",
        "gen_val = ImageDataGenerator(rescale = 1./255.)\n",
        "gen_test = ImageDataGenerator(rescale = 1./255.)\n",
        "\n",
        "train_gen = gen_train.flow_from_directory(train, batch_size = 64, class_mode = 'categorical', target_size = (220, 220))\n",
        "validation_gen = gen_val.flow_from_directory(val, batch_size = 64, class_mode = 'categorical', target_size=(220, 220))\n",
        "test_gen = gen_test.flow_from_directory(test, shuffle = False, batch_size=64, class_mode = 'categorical', target_size=(220, 220))"
      ],
      "metadata": {
        "colab": {
          "base_uri": "https://localhost:8080/"
        },
        "id": "eQAoMvydqYZo",
        "outputId": "a25dc1b2-259a-44f7-ca37-cbe81145e3a0"
      },
      "execution_count": null,
      "outputs": [
        {
          "output_type": "stream",
          "name": "stdout",
          "text": [
            "Found 5786 images belonging to 2 classes.\n",
            "Found 722 images belonging to 2 classes.\n",
            "Found 722 images belonging to 2 classes.\n"
          ]
        }
      ]
    },
    {
      "cell_type": "code",
      "source": [
        "base_model = tf.keras.applications.mobilenet_v2.MobileNetV2(weights = 'imagenet', input_shape = (220, 220,3), include_top = False)\n",
        "\n",
        "for layer in base_model.layers:\n",
        "    layer.trainable = False\n",
        "\n",
        "model = Sequential()\n",
        "model.add(base_model)\n",
        "model.add(GlobalAveragePooling2D())\n",
        "model.add(Dense(256, activation = 'relu'))\n",
        "model.add(Dropout(0.1))\n",
        "model.add(Dense(128,activation=\"relu\"))\n",
        "model.add(Dropout(0.1))\n",
        "model.add(Dense(2, activation='softmax'))\n",
        "model.summary()"
      ],
      "metadata": {
        "colab": {
          "base_uri": "https://localhost:8080/"
        },
        "id": "Yhi08VSXmYn8",
        "outputId": "cb1b83a4-e986-4104-f2d1-386bc49eb49d"
      },
      "execution_count": null,
      "outputs": [
        {
          "output_type": "stream",
          "name": "stderr",
          "text": [
            "WARNING:tensorflow:`input_shape` is undefined or non-square, or `rows` is not in [96, 128, 160, 192, 224]. Weights for input shape (224, 224) will be loaded as the default.\n"
          ]
        },
        {
          "output_type": "stream",
          "name": "stdout",
          "text": [
            "Downloading data from https://storage.googleapis.com/tensorflow/keras-applications/mobilenet_v2/mobilenet_v2_weights_tf_dim_ordering_tf_kernels_1.0_224_no_top.h5\n",
            "9406464/9406464 [==============================] - 0s 0us/step\n",
            "Model: \"sequential\"\n",
            "_________________________________________________________________\n",
            " Layer (type)                Output Shape              Param #   \n",
            "=================================================================\n",
            " mobilenetv2_1.00_224 (Funct  (None, 7, 7, 1280)       2257984   \n",
            " ional)                                                          \n",
            "                                                                 \n",
            " global_average_pooling2d (G  (None, 1280)             0         \n",
            " lobalAveragePooling2D)                                          \n",
            "                                                                 \n",
            " dense (Dense)               (None, 256)               327936    \n",
            "                                                                 \n",
            " dropout (Dropout)           (None, 256)               0         \n",
            "                                                                 \n",
            " dense_1 (Dense)             (None, 128)               32896     \n",
            "                                                                 \n",
            " dropout_1 (Dropout)         (None, 128)               0         \n",
            "                                                                 \n",
            " dense_2 (Dense)             (None, 2)                 258       \n",
            "                                                                 \n",
            "=================================================================\n",
            "Total params: 2,619,074\n",
            "Trainable params: 361,090\n",
            "Non-trainable params: 2,257,984\n",
            "_________________________________________________________________\n"
          ]
        }
      ]
    },
    {
      "cell_type": "code",
      "source": [
        "model.compile(optimizer=\"adam\", loss='categorical_crossentropy', metrics=[\"accuracy\"])\n",
        "\n",
        "callback = tf.keras.callbacks.EarlyStopping(monitor='val_loss', patience=2,restore_best_weights=True)\n",
        "\n",
        "history = model.fit(train_gen, validation_data = validation_gen, steps_per_epoch = 40, epochs = 25, callbacks = callback)"
      ],
      "metadata": {
        "colab": {
          "base_uri": "https://localhost:8080/"
        },
        "id": "-ib9m8hpqWrz",
        "outputId": "8f3ba2c0-554e-47ef-d48d-9867462468c6"
      },
      "execution_count": null,
      "outputs": [
        {
          "output_type": "stream",
          "name": "stdout",
          "text": [
            "Epoch 1/25\n",
            "40/40 [==============================] - 599s 15s/step - loss: 0.4283 - accuracy: 0.8039 - val_loss: 0.4287 - val_accuracy: 0.8006\n",
            "Epoch 2/25\n",
            "40/40 [==============================] - 296s 7s/step - loss: 0.3118 - accuracy: 0.8594 - val_loss: 0.4451 - val_accuracy: 0.7784\n",
            "Epoch 3/25\n",
            "40/40 [==============================] - 235s 6s/step - loss: 0.2689 - accuracy: 0.8844 - val_loss: 0.2524 - val_accuracy: 0.8753\n",
            "Epoch 4/25\n",
            "40/40 [==============================] - 223s 6s/step - loss: 0.2305 - accuracy: 0.8945 - val_loss: 0.2336 - val_accuracy: 0.8934\n",
            "Epoch 5/25\n",
            "40/40 [==============================] - 208s 5s/step - loss: 0.2106 - accuracy: 0.9090 - val_loss: 0.1875 - val_accuracy: 0.9169\n",
            "Epoch 6/25\n",
            "40/40 [==============================] - 217s 5s/step - loss: 0.2228 - accuracy: 0.9013 - val_loss: 0.1235 - val_accuracy: 0.9515\n",
            "Epoch 7/25\n",
            "40/40 [==============================] - 204s 5s/step - loss: 0.2167 - accuracy: 0.9137 - val_loss: 0.2570 - val_accuracy: 0.8726\n",
            "Epoch 8/25\n",
            "40/40 [==============================] - 207s 5s/step - loss: 0.1944 - accuracy: 0.9168 - val_loss: 0.2291 - val_accuracy: 0.8864\n"
          ]
        }
      ]
    },
    {
      "cell_type": "code",
      "source": [
        "model.save(\"MobileNet_v2_3.h5\")"
      ],
      "metadata": {
        "id": "znkKf3oR-FJN"
      },
      "execution_count": null,
      "outputs": []
    },
    {
      "cell_type": "code",
      "source": [
        "np.save(\"MobileNet_history.npy\",history.history)"
      ],
      "metadata": {
        "id": "thsccNrlWZFE"
      },
      "execution_count": null,
      "outputs": []
    },
    {
      "cell_type": "code",
      "source": [
        "y_pred = model.predict(test_gen)"
      ],
      "metadata": {
        "id": "TIGigbVOTsrz"
      },
      "execution_count": null,
      "outputs": []
    },
    {
      "cell_type": "code",
      "source": [
        "y_pred_list = []\n",
        "\n",
        "for i in range(len(y_pred)):\n",
        "    y_pred[i] = np.where(y_pred[i] == np.amax(y_pred[i]))\n",
        "    y_pred_list.append(y_pred[i][0])\n",
        "\n"
      ],
      "metadata": {
        "id": "OGg3OPn7UIiq"
      },
      "execution_count": null,
      "outputs": []
    },
    {
      "cell_type": "code",
      "source": [
        "y_actual = []\n",
        "\n",
        "for i in range(len(y_pred)):\n",
        "  if i <361 :\n",
        "    y_actual.append(0)\n",
        "  else:\n",
        "    y_actual.append(1)"
      ],
      "metadata": {
        "id": "x79Drh6C3J8W"
      },
      "execution_count": null,
      "outputs": []
    },
    {
      "cell_type": "code",
      "source": [
        "from sklearn.metrics import accuracy_score\n",
        "accuracy_score(y_actual,y_pred_list)"
      ],
      "metadata": {
        "id": "hWQAdUpZ4K8K"
      },
      "execution_count": null,
      "outputs": []
    },
    {
      "cell_type": "code",
      "source": [
        "np.save(\"Mobilenet-history.npy\",history.history)\n",
        "model.save(\"Mobilenet.h5\")"
      ],
      "metadata": {
        "id": "jE1bt3lk1ydv"
      },
      "execution_count": null,
      "outputs": []
    },
    {
      "cell_type": "code",
      "source": [
        "from google.colab import files \n",
        "files.download(\"Mobilenet.h5\")\n",
        "\n",
        "files.download(\"Mobilenet-history.npy\")"
      ],
      "metadata": {
        "id": "rIPt-JEu_il1"
      },
      "execution_count": null,
      "outputs": []
    }
  ]
}