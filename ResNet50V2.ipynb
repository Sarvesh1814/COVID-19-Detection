{
  "cells": [
    {
      "cell_type": "code",
      "execution_count": null,
      "metadata": {
        "colab": {
          "base_uri": "https://localhost:8080/"
        },
        "id": "gznllPrTcaKm",
        "outputId": "c6e091d5-7ea0-414d-fd9b-6b093948c970"
      },
      "outputs": [
        {
          "name": "stdout",
          "output_type": "stream",
          "text": [
            "Mounted at /content/drive\n"
          ]
        }
      ],
      "source": [
        "from google.colab import drive\n",
        "drive.mount('/content/drive')"
      ]
    },
    {
      "cell_type": "code",
      "execution_count": null,
      "metadata": {
        "id": "3hIOe2kneuGF"
      },
      "outputs": [],
      "source": [
        "path = \"/content/drive/MyDrive/COVID-19_Radiography_Dataset\""
      ]
    },
    {
      "cell_type": "code",
      "execution_count": null,
      "metadata": {
        "id": "jMnwp7Bifiti"
      },
      "outputs": [],
      "source": [
        "import numpy as np\n",
        "import pandas as pd\n",
        "import os\n",
        "\n",
        "import tensorflow as tf\n",
        "from tensorflow.keras.preprocessing.image import ImageDataGenerator\n",
        "\n",
        "from tensorflow.keras.layers import Dense, GlobalAveragePooling2D, Dropout\n",
        "from tensorflow.keras.models import Sequential\n",
        "from tensorflow.keras.optimizers import Adam\n",
        "\n",
        "import seaborn as sns\n",
        "\n",
        "from sklearn.metrics import classification_report, confusion_matrix\n",
        "import glob\n",
        "import matplotlib.pyplot as plt\n",
        "import cv2"
      ]
    },
    {
      "cell_type": "code",
      "execution_count": null,
      "metadata": {
        "colab": {
          "base_uri": "https://localhost:8080/"
        },
        "id": "eQAoMvydqYZo",
        "outputId": "84677995-d1c0-427e-8a7a-ec887f2afa75"
      },
      "outputs": [
        {
          "name": "stdout",
          "output_type": "stream",
          "text": [
            "Found 5786 images belonging to 2 classes.\n",
            "Found 722 images belonging to 2 classes.\n",
            "Found 722 images belonging to 2 classes.\n"
          ]
        }
      ],
      "source": [
        "train = \"/content/drive/MyDrive/COVID-19_Radiography_Dataset/Train\" \n",
        "val =\"/content/drive/MyDrive/COVID-19_Radiography_Dataset/Val\"\n",
        "test = \"/content/drive/MyDrive/COVID-19_Radiography_Dataset/Test\"\n",
        "\n",
        "gen_train = ImageDataGenerator(rescale = 1./255., zoom_range = 0.2,)\n",
        "gen_val = ImageDataGenerator(rescale = 1./255.)\n",
        "gen_test = ImageDataGenerator(rescale = 1./255.)\n",
        "\n",
        "train_gen = gen_train.flow_from_directory(train, batch_size = 64, class_mode = 'categorical', target_size = (220, 220))\n",
        "validation_gen = gen_val.flow_from_directory(val, batch_size = 64, class_mode = 'categorical', target_size=(220, 220))\n",
        "test_gen = gen_test.flow_from_directory(test, shuffle = False, batch_size=64, class_mode = 'categorical', target_size=(220, 220))"
      ]
    },
    {
      "cell_type": "code",
      "execution_count": null,
      "metadata": {
        "colab": {
          "base_uri": "https://localhost:8080/"
        },
        "id": "Yhi08VSXmYn8",
        "outputId": "52616984-ae7c-4711-cc5c-053945a2a75c"
      },
      "outputs": [
        {
          "name": "stdout",
          "output_type": "stream",
          "text": [
            "Model: \"sequential_1\"\n",
            "_________________________________________________________________\n",
            " Layer (type)                Output Shape              Param #   \n",
            "=================================================================\n",
            " resnet50v2 (Functional)     (None, 7, 7, 2048)        23564800  \n",
            "                                                                 \n",
            " global_average_pooling2d_1   (None, 2048)             0         \n",
            " (GlobalAveragePooling2D)                                        \n",
            "                                                                 \n",
            " dense_3 (Dense)             (None, 512)               1049088   \n",
            "                                                                 \n",
            " dropout_2 (Dropout)         (None, 512)               0         \n",
            "                                                                 \n",
            " dense_4 (Dense)             (None, 256)               131328    \n",
            "                                                                 \n",
            " dropout_3 (Dropout)         (None, 256)               0         \n",
            "                                                                 \n",
            " dense_5 (Dense)             (None, 2)                 514       \n",
            "                                                                 \n",
            "=================================================================\n",
            "Total params: 24,745,730\n",
            "Trainable params: 1,180,930\n",
            "Non-trainable params: 23,564,800\n",
            "_________________________________________________________________\n"
          ]
        }
      ],
      "source": [
        "base_model = tf.keras.applications.ResNet50V2(weights = 'imagenet', input_shape = (220, 220,3), include_top = False)\n",
        "\n",
        "for layer in base_model.layers:\n",
        "    layer.trainable = False\n",
        "\n",
        "model = Sequential()\n",
        "model.add(base_model)\n",
        "model.add(GlobalAveragePooling2D())\n",
        "model.add(Dense(512, activation = 'relu'))\n",
        "model.add(Dropout(0.15))\n",
        "model.add(Dense(256, activation = 'relu'))\n",
        "model.add(Dropout(0.1))\n",
        "model.add(Dense(2, activation='softmax'))\n",
        "model.summary()"
      ]
    },
    {
      "cell_type": "code",
      "execution_count": null,
      "metadata": {
        "colab": {
          "base_uri": "https://localhost:8080/"
        },
        "id": "-ib9m8hpqWrz",
        "outputId": "137d28d9-0daa-4dda-d475-6e5405190307"
      },
      "outputs": [
        {
          "name": "stdout",
          "output_type": "stream",
          "text": [
            "Epoch 1/25\n",
            "40/40 [==============================] - 55s 1s/step - loss: 0.5217 - accuracy: 0.7914 - val_loss: 0.3325 - val_accuracy: 0.8227\n",
            "Epoch 2/25\n",
            "40/40 [==============================] - 47s 1s/step - loss: 0.3072 - accuracy: 0.8668 - val_loss: 0.3270 - val_accuracy: 0.8296\n",
            "Epoch 3/25\n",
            "40/40 [==============================] - 49s 1s/step - loss: 0.2581 - accuracy: 0.8875 - val_loss: 0.2565 - val_accuracy: 0.8670\n",
            "Epoch 4/25\n",
            "40/40 [==============================] - 47s 1s/step - loss: 0.2455 - accuracy: 0.9068 - val_loss: 0.1936 - val_accuracy: 0.9044\n",
            "Epoch 5/25\n",
            "40/40 [==============================] - 47s 1s/step - loss: 0.2389 - accuracy: 0.8961 - val_loss: 0.2261 - val_accuracy: 0.8837\n",
            "Epoch 6/25\n",
            "40/40 [==============================] - 48s 1s/step - loss: 0.2148 - accuracy: 0.9112 - val_loss: 0.1874 - val_accuracy: 0.9114\n",
            "Epoch 7/25\n",
            "40/40 [==============================] - 47s 1s/step - loss: 0.2153 - accuracy: 0.9051 - val_loss: 0.1576 - val_accuracy: 0.9321\n",
            "Epoch 8/25\n",
            "40/40 [==============================] - 46s 1s/step - loss: 0.2010 - accuracy: 0.9172 - val_loss: 0.2571 - val_accuracy: 0.8726\n",
            "Epoch 9/25\n",
            "40/40 [==============================] - 48s 1s/step - loss: 0.1822 - accuracy: 0.9211 - val_loss: 0.1917 - val_accuracy: 0.9127\n",
            "Epoch 10/25\n",
            "40/40 [==============================] - 47s 1s/step - loss: 0.1924 - accuracy: 0.9191 - val_loss: 0.2423 - val_accuracy: 0.8781\n",
            "Epoch 11/25\n",
            "40/40 [==============================] - 45s 1s/step - loss: 0.1773 - accuracy: 0.9286 - val_loss: 0.1852 - val_accuracy: 0.9183\n",
            "Epoch 12/25\n",
            "40/40 [==============================] - 47s 1s/step - loss: 0.1872 - accuracy: 0.9207 - val_loss: 0.2624 - val_accuracy: 0.8850\n",
            "Epoch 13/25\n",
            "40/40 [==============================] - 46s 1s/step - loss: 0.1727 - accuracy: 0.9328 - val_loss: 0.2607 - val_accuracy: 0.8823\n",
            "Epoch 14/25\n",
            "40/40 [==============================] - 47s 1s/step - loss: 0.1640 - accuracy: 0.9358 - val_loss: 0.2091 - val_accuracy: 0.9030\n",
            "Epoch 15/25\n",
            "40/40 [==============================] - 46s 1s/step - loss: 0.1576 - accuracy: 0.9363 - val_loss: 0.1407 - val_accuracy: 0.9418\n",
            "Epoch 16/25\n",
            "40/40 [==============================] - 48s 1s/step - loss: 0.1617 - accuracy: 0.9340 - val_loss: 0.1694 - val_accuracy: 0.9183\n",
            "Epoch 17/25\n",
            "40/40 [==============================] - 48s 1s/step - loss: 0.1521 - accuracy: 0.9371 - val_loss: 0.2033 - val_accuracy: 0.9211\n",
            "Epoch 18/25\n",
            "40/40 [==============================] - 47s 1s/step - loss: 0.1589 - accuracy: 0.9324 - val_loss: 0.2031 - val_accuracy: 0.9155\n",
            "Epoch 19/25\n",
            "40/40 [==============================] - 53s 1s/step - loss: 0.1461 - accuracy: 0.9383 - val_loss: 0.1716 - val_accuracy: 0.9252\n",
            "Epoch 20/25\n",
            "40/40 [==============================] - 45s 1s/step - loss: 0.1435 - accuracy: 0.9409 - val_loss: 0.2607 - val_accuracy: 0.9030\n",
            "Epoch 21/25\n",
            "40/40 [==============================] - 47s 1s/step - loss: 0.1380 - accuracy: 0.9457 - val_loss: 0.1681 - val_accuracy: 0.9377\n",
            "Epoch 22/25\n",
            "40/40 [==============================] - 46s 1s/step - loss: 0.1544 - accuracy: 0.9362 - val_loss: 0.1305 - val_accuracy: 0.9446\n",
            "Epoch 23/25\n",
            "40/40 [==============================] - 47s 1s/step - loss: 0.1298 - accuracy: 0.9485 - val_loss: 0.2072 - val_accuracy: 0.9183\n",
            "Epoch 24/25\n",
            "40/40 [==============================] - 48s 1s/step - loss: 0.1460 - accuracy: 0.9421 - val_loss: 0.2065 - val_accuracy: 0.9086\n",
            "Epoch 25/25\n",
            "40/40 [==============================] - 46s 1s/step - loss: 0.1467 - accuracy: 0.9429 - val_loss: 0.1675 - val_accuracy: 0.9321\n"
          ]
        }
      ],
      "source": [
        "model.compile(optimizer=\"adam\", loss='categorical_crossentropy', metrics=[\"accuracy\"])\n",
        "\n",
        "callback = tf.keras.callbacks.EarlyStopping(monitor='accuracy', patience=2,restore_best_weights=True)\n",
        "\n",
        "history = model.fit(train_gen, validation_data = validation_gen, steps_per_epoch = 40, epochs = 25, callbacks = callback)"
      ]
    },
    {
      "cell_type": "code",
      "execution_count": null,
      "metadata": {
        "id": "zfej4F4Vzw4j"
      },
      "outputs": [],
      "source": [
        "np.save(\"ResNet50V2-history1.npy\",history.history)"
      ]
    },
    {
      "cell_type": "code",
      "execution_count": null,
      "metadata": {
        "colab": {
          "background_save": true
        },
        "id": "znkKf3oR-FJN"
      },
      "outputs": [],
      "source": [
        "model.save(\"ResNet50V2_weights.h5\")"
      ]
    },
    {
      "cell_type": "code",
      "execution_count": null,
      "metadata": {
        "colab": {
          "base_uri": "https://localhost:8080/"
        },
        "id": "TIGigbVOTsrz",
        "outputId": "2e055977-8eef-4a12-c546-5f93d03073a6"
      },
      "outputs": [
        {
          "name": "stdout",
          "output_type": "stream",
          "text": [
            "12/12 [==============================] - 303s 27s/step\n"
          ]
        }
      ],
      "source": [
        "y_pred = model.predict(test_gen)"
      ]
    },
    {
      "cell_type": "code",
      "execution_count": null,
      "metadata": {
        "id": "OGg3OPn7UIiq"
      },
      "outputs": [],
      "source": [
        "y_pred_list = []\n",
        "\n",
        "for i in range(len(y_pred)):\n",
        "    y_pred[i] = np.where(y_pred[i] == np.amax(y_pred[i]))\n",
        "    y_pred_list.append(y_pred[i][0])\n",
        "\n",
        "y_pred_list"
      ]
    }
  ],
  "metadata": {
    "accelerator": "GPU",
    "colab": {
      "provenance": []
    },
    "gpuClass": "standard",
    "kernelspec": {
      "display_name": "Python 3",
      "name": "python3"
    },
    "language_info": {
      "name": "python"
    }
  },
  "nbformat": 4,
  "nbformat_minor": 0
}